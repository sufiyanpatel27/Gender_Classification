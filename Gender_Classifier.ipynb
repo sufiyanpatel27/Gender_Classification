{
 "cells": [
  {
   "cell_type": "markdown",
   "metadata": {
    "id": "eouY9YNjQmQw"
   },
   "source": [
    "# Gender Classification"
   ]
  },
  {
   "cell_type": "markdown",
   "metadata": {
    "id": "9ylseZRUQwEd"
   },
   "source": [
    "**importing necessary libraries**"
   ]
  },
  {
   "cell_type": "code",
   "execution_count": 6,
   "metadata": {
    "id": "emlCW6jYHlFX"
   },
   "outputs": [],
   "source": [
    "import cv2\n",
    "import keras\n",
    "import numpy as np\n",
    "import matplotlib.pyplot as plt\n",
    "from keras.models import Sequential\n",
    "from keras.preprocessing.image import ImageDataGenerator\n",
    "from keras.layers import Dense, Conv2D , MaxPool2D , Flatten , Dropout "
   ]
  },
  {
   "cell_type": "markdown",
   "metadata": {
    "id": "en69IOwFRMZw"
   },
   "source": [
    "**downloading dataset from kaggle**"
   ]
  },
  {
   "cell_type": "code",
   "execution_count": 1,
   "metadata": {
    "colab": {
     "base_uri": "https://localhost:8080/"
    },
    "id": "699zGa6rm6rx",
    "outputId": "f17ab3bd-73c6-42fb-8b6e-b082de9f1e2e"
   },
   "outputs": [
    {
     "name": "stdout",
     "output_type": "stream",
     "text": [
      "Downloading gender-classification-dataset.zip to /content\n",
      " 94% 253M/269M [00:01<00:00, 171MB/s]\n",
      "100% 269M/269M [00:01<00:00, 155MB/s]\n"
     ]
    }
   ],
   "source": [
    "!pip install -q kaggle\n",
    "!mkdir -p ~/.kaggle\n",
    "!cp /content/kaggle.json ~/.kaggle/\n",
    "!chmod 600 ~/.kaggle/kaggle.json\n",
    "!kaggle datasets download -d cashutosh/gender-classification-dataset"
   ]
  },
  {
   "cell_type": "code",
   "execution_count": null,
   "metadata": {
    "id": "bw3AHEiBHJGO"
   },
   "outputs": [],
   "source": [
    "#unzipping the file\n",
    "!unzip /content/gender-classification-dataset.zip -d /content/"
   ]
  },
  {
   "cell_type": "code",
   "execution_count": 3,
   "metadata": {
    "id": "Hf5yK9y9HPAn"
   },
   "outputs": [],
   "source": [
    "train_path = '/content/Training'\n",
    "valid_path = '/content/Validation'"
   ]
  },
  {
   "cell_type": "code",
   "execution_count": 4,
   "metadata": {
    "id": "k5lUPFwIHe21"
   },
   "outputs": [],
   "source": [
    "#basic parameters\n",
    "size = 224\n",
    "batch_size = 64"
   ]
  },
  {
   "cell_type": "markdown",
   "metadata": {
    "id": "5oOlmM3ASAro"
   },
   "source": [
    "**reading all the images for training and validation**"
   ]
  },
  {
   "cell_type": "code",
   "execution_count": 7,
   "metadata": {
    "colab": {
     "base_uri": "https://localhost:8080/"
    },
    "id": "Gz0sDT6vHglO",
    "outputId": "5ce09190-543b-4907-f0c5-0ab7dacdf07d"
   },
   "outputs": [
    {
     "name": "stdout",
     "output_type": "stream",
     "text": [
      "Found 47009 images belonging to 2 classes.\n",
      "Found 11649 images belonging to 2 classes.\n"
     ]
    }
   ],
   "source": [
    "#ImageDataGenerator for reading images for training and validation\n",
    "train_datagen = ImageDataGenerator(\n",
    "    rescale = 1./255, \n",
    "    shear_range = 0.2, \n",
    "    zoom_range = 0.2,\n",
    "    horizontal_flip = True\n",
    ")\n",
    "\n",
    "test_datagen = ImageDataGenerator(rescale = 1./255)\n",
    "\n",
    "train_generator = train_datagen.flow_from_directory(\n",
    "    train_path, \n",
    "    target_size = (size, size),\n",
    "    batch_size = batch_size,\n",
    "    class_mode = 'binary'\n",
    ")\n",
    "\n",
    "validation_generator = test_datagen.flow_from_directory(\n",
    "    valid_path,\n",
    "    target_size = (size, size),\n",
    "    batch_size = batch_size, \n",
    "    class_mode = 'binary'\n",
    ")"
   ]
  },
  {
   "cell_type": "markdown",
   "metadata": {
    "id": "9ptZE43gSKqv"
   },
   "source": [
    "##building the classifier from scratch"
   ]
  },
  {
   "cell_type": "code",
   "execution_count": 29,
   "metadata": {
    "colab": {
     "base_uri": "https://localhost:8080/"
    },
    "id": "0pyU2v7EHio-",
    "outputId": "ba3977c4-3d9e-404a-b927-253740e32673"
   },
   "outputs": [
    {
     "name": "stdout",
     "output_type": "stream",
     "text": [
      "Model: \"sequential_10\"\n",
      "_________________________________________________________________\n",
      "Layer (type)                 Output Shape              Param #   \n",
      "=================================================================\n",
      "conv2d_29 (Conv2D)           (None, 224, 224, 32)      896       \n",
      "_________________________________________________________________\n",
      "max_pooling2d_29 (MaxPooling (None, 112, 112, 32)      0         \n",
      "_________________________________________________________________\n",
      "conv2d_30 (Conv2D)           (None, 112, 112, 32)      9248      \n",
      "_________________________________________________________________\n",
      "max_pooling2d_30 (MaxPooling (None, 56, 56, 32)        0         \n",
      "_________________________________________________________________\n",
      "conv2d_31 (Conv2D)           (None, 56, 56, 64)        18496     \n",
      "_________________________________________________________________\n",
      "max_pooling2d_31 (MaxPooling (None, 28, 28, 64)        0         \n",
      "_________________________________________________________________\n",
      "dropout_12 (Dropout)         (None, 28, 28, 64)        0         \n",
      "_________________________________________________________________\n",
      "flatten_10 (Flatten)         (None, 50176)             0         \n",
      "_________________________________________________________________\n",
      "dense_20 (Dense)             (None, 128)               6422656   \n",
      "_________________________________________________________________\n",
      "dense_21 (Dense)             (None, 1)                 129       \n",
      "=================================================================\n",
      "Total params: 6,451,425\n",
      "Trainable params: 6,451,425\n",
      "Non-trainable params: 0\n",
      "_________________________________________________________________\n"
     ]
    }
   ],
   "source": [
    "model = Sequential()\n",
    "\n",
    "#first layer\n",
    "model.add(Conv2D(32,3,padding=\"same\", activation=\"relu\", input_shape=(size,size,3)))\n",
    "model.add(MaxPool2D())\n",
    "\n",
    "#second layer\n",
    "model.add(Conv2D(32, 3, padding=\"same\", activation=\"relu\"))\n",
    "model.add(MaxPool2D())\n",
    "\n",
    "#third layer\n",
    "model.add(Conv2D(64, 3, padding=\"same\", activation=\"relu\"))\n",
    "model.add(MaxPool2D())\n",
    "model.add(Dropout(0.4))\n",
    "\n",
    "#final layer\n",
    "model.add(Flatten())\n",
    "model.add(Dense(128,activation=\"relu\"))\n",
    "model.add(Dense(1, activation=\"sigmoid\"))\n",
    "\n",
    "model.summary()"
   ]
  },
  {
   "cell_type": "code",
   "execution_count": 30,
   "metadata": {
    "id": "gFlAXWqhNr6W"
   },
   "outputs": [],
   "source": [
    "model.compile(optimizer = 'adam' , loss = 'mse' , metrics = ['accuracy'])"
   ]
  },
  {
   "cell_type": "markdown",
   "metadata": {
    "id": "wj6C_BJ4SR7P"
   },
   "source": [
    "**some callbacks**"
   ]
  },
  {
   "cell_type": "code",
   "execution_count": 33,
   "metadata": {
    "id": "NAObpOgCOM-m"
   },
   "outputs": [],
   "source": [
    "#saving the best model\n",
    "from tensorflow.keras.callbacks import ModelCheckpoint\n",
    "\n",
    "checkpointer = ModelCheckpoint(filepath='/content/final_model.h5', \n",
    "                               verbose=1, save_best_only=True)"
   ]
  },
  {
   "cell_type": "code",
   "execution_count": 34,
   "metadata": {
    "colab": {
     "base_uri": "https://localhost:8080/"
    },
    "id": "zdRYK7gRHsbG",
    "outputId": "d94ce25a-2278-4b67-d332-4ac7211d300d"
   },
   "outputs": [
    {
     "name": "stdout",
     "output_type": "stream",
     "text": [
      "Epoch 1/10\n",
      "256/256 [==============================] - 209s 817ms/step - loss: 0.1046 - accuracy: 0.8581 - val_loss: 0.0658 - val_accuracy: 0.9135\n",
      "\n",
      "Epoch 00001: val_loss improved from inf to 0.06583, saving model to /content/final_model.h5\n",
      "Epoch 2/10\n",
      "256/256 [==============================] - 209s 816ms/step - loss: 0.0829 - accuracy: 0.8926 - val_loss: 0.0675 - val_accuracy: 0.9122\n",
      "\n",
      "Epoch 00002: val_loss did not improve from 0.06583\n",
      "Epoch 3/10\n",
      "256/256 [==============================] - 208s 812ms/step - loss: 0.0742 - accuracy: 0.9026 - val_loss: 0.0537 - val_accuracy: 0.9294\n",
      "\n",
      "Epoch 00003: val_loss improved from 0.06583 to 0.05365, saving model to /content/final_model.h5\n",
      "Epoch 4/10\n",
      "256/256 [==============================] - 208s 814ms/step - loss: 0.0673 - accuracy: 0.9103 - val_loss: 0.0515 - val_accuracy: 0.9302\n",
      "\n",
      "Epoch 00004: val_loss improved from 0.05365 to 0.05148, saving model to /content/final_model.h5\n",
      "Epoch 5/10\n",
      "256/256 [==============================] - 208s 811ms/step - loss: 0.0610 - accuracy: 0.9206 - val_loss: 0.0438 - val_accuracy: 0.9441\n",
      "\n",
      "Epoch 00005: val_loss improved from 0.05148 to 0.04383, saving model to /content/final_model.h5\n",
      "Epoch 6/10\n",
      "256/256 [==============================] - 208s 813ms/step - loss: 0.0597 - accuracy: 0.9219 - val_loss: 0.0423 - val_accuracy: 0.9463\n",
      "\n",
      "Epoch 00006: val_loss improved from 0.04383 to 0.04235, saving model to /content/final_model.h5\n",
      "Epoch 7/10\n",
      "256/256 [==============================] - 208s 814ms/step - loss: 0.0568 - accuracy: 0.9252 - val_loss: 0.0419 - val_accuracy: 0.9454\n",
      "\n",
      "Epoch 00007: val_loss improved from 0.04235 to 0.04192, saving model to /content/final_model.h5\n",
      "Epoch 8/10\n",
      "256/256 [==============================] - 209s 815ms/step - loss: 0.0546 - accuracy: 0.9265 - val_loss: 0.0419 - val_accuracy: 0.9476\n",
      "\n",
      "Epoch 00008: val_loss did not improve from 0.04192\n",
      "Epoch 9/10\n",
      "256/256 [==============================] - 208s 814ms/step - loss: 0.0520 - accuracy: 0.9302 - val_loss: 0.0360 - val_accuracy: 0.9536\n",
      "\n",
      "Epoch 00009: val_loss improved from 0.04192 to 0.03604, saving model to /content/final_model.h5\n",
      "Epoch 10/10\n",
      "256/256 [==============================] - 209s 815ms/step - loss: 0.0490 - accuracy: 0.9368 - val_loss: 0.0360 - val_accuracy: 0.9536\n",
      "\n",
      "Epoch 00010: val_loss improved from 0.03604 to 0.03599, saving model to /content/final_model.h5\n"
     ]
    }
   ],
   "source": [
    "history = model.fit(train_generator, epochs = 10, steps_per_epoch = 256 , validation_data = validation_generator, callbacks=[checkpointer])"
   ]
  },
  {
   "cell_type": "code",
   "execution_count": 49,
   "metadata": {
    "colab": {
     "base_uri": "https://localhost:8080/",
     "height": 590
    },
    "id": "-vYDh60yXjiv",
    "outputId": "5e90bbaa-14f7-4c80-8789-310cf345c38d"
   },
   "outputs": [
    {
     "name": "stdout",
     "output_type": "stream",
     "text": [
      "dict_keys(['loss', 'accuracy', 'val_loss', 'val_accuracy'])\n"
     ]
    },
    {
     "data": {
      "image/png": "[encoded data removed]",
      "text/plain": [
       "<Figure size 432x288 with 1 Axes>"
      ]
     },
     "metadata": {
      "needs_background": "light",
      "tags": []
     },
     "output_type": "display_data"
    },
    {
     "data": {
      "image/png": "[encoded data removed]",
      "text/plain": [
       "<Figure size 432x288 with 1 Axes>"
      ]
     },
     "metadata": {
      "needs_background": "light",
      "tags": []
     },
     "output_type": "display_data"
    }
   ],
   "source": [
    "# summarize history for accuracy\n",
    "plt.plot(history.history['accuracy'])\n",
    "plt.plot(history.history['val_accuracy'])\n",
    "plt.title('model accuracy')\n",
    "plt.ylabel('accuracy')\n",
    "plt.xlabel('epoch')\n",
    "plt.legend(['train', 'test'], loc='upper left')\n",
    "plt.show()\n",
    "# summarize history for loss\n",
    "plt.plot(history.history['loss'])\n",
    "plt.plot(history.history['val_loss'])\n",
    "plt.title('model loss')\n",
    "plt.ylabel('loss')\n",
    "plt.xlabel('epoch')\n",
    "plt.legend(['train', 'test'], loc='upper left')\n",
    "plt.show()"
   ]
  },
  {
   "cell_type": "code",
   "execution_count": 68,
   "metadata": {
    "colab": {
     "base_uri": "https://localhost:8080/",
     "height": 35
    },
    "id": "2ZxonK9nSZ6N",
    "outputId": "bac6fcbc-047d-49de-8b84-9f949fe1f0e1"
   },
   "outputs": [
    {
     "data": {
      "application/vnd.google.colaboratory.intrinsic+json": {
       "type": "string"
      },
      "text/plain": [
       "'female'"
      ]
     },
     "execution_count": 68,
     "metadata": {
      "tags": []
     },
     "output_type": "execute_result"
    }
   ],
   "source": [
    "sample = cv2.imread('/content/female1.jpg.jpg')\n",
    "sample = cv2.resize(sample, (224, 224))\n",
    "sample = np.expand_dims(sample, axis = 0)\n",
    "\n",
    "labels = ['female', 'male']\n",
    "labels[int(model.predict(sample)[0][0])]"
   ]
  }
 ],
 "metadata": {
  "accelerator": "GPU",
  "colab": {
   "collapsed_sections": [],
   "name": "practice2.ipynb",
   "provenance": []
  },
  "kernelspec": {
   "display_name": "Python 3",
   "language": "python",
   "name": "python3"
  },
  "language_info": {
   "codemirror_mode": {
    "name": "ipython",
    "version": 3
   },
   "file_extension": ".py",
   "mimetype": "text/x-python",
   "name": "python",
   "nbconvert_exporter": "python",
   "pygments_lexer": "ipython3",
   "version": "3.8.3"
  }
 },
 "nbformat": 4,
 "nbformat_minor": 1
}
